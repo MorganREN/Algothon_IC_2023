{
 "cells": [
  {
   "cell_type": "code",
   "execution_count": 1,
   "id": "921cfaca",
   "metadata": {},
   "outputs": [],
   "source": [
    "import pandas as pd\n",
    "import numpy as np\n",
    "from scipy.stats import spearmanr, pearsonr\n",
    "from sklearn.linear_model import Ridge, RidgeCV, Lasso, LinearRegression\n",
    "from sklearn.metrics import mean_squared_error\n",
    "from sklearn.preprocessing import StandardScaler\n",
    "from sklearn.model_selection import train_test_split, cross_val_score\n",
    "from sklearn.svm import SVR"
   ]
  },
  {
   "cell_type": "markdown",
   "id": "c8d18b61",
   "metadata": {},
   "source": [
    "## Data Preprocessing\n",
    "\n",
    "Splitting the data into train and test sets"
   ]
  },
  {
   "cell_type": "code",
   "execution_count": 109,
   "id": "dc7f4930",
   "metadata": {},
   "outputs": [],
   "source": [
    "X_train_raw=pd.read_csv(\"X_train.csv\")\n",
    "y_train_raw=pd.read_csv(\"y_train.csv\")\n",
    "X_test_raw=pd.read_csv(\"X_test.csv\")\n",
    "\n",
    "X_train_raw=X_train_raw.drop([\"DE_FR_EXCHANGE\",\"DE_NET_IMPORT\",\"FR_NET_IMPORT\"],axis=1)\n",
    "\n",
    "\n",
    "#lets drop the redundant stuff\n",
    "X_train,X_test,y_train,y_test=train_test_split(X_train_raw,y_train_raw,test_size=0.2,random_state=13)\n",
    "\n",
    "y_train=y_train[\"TARGET\"]\n",
    "y_test=y_test[\"TARGET\"]"
   ]
  },
  {
   "cell_type": "markdown",
   "id": "ecd39834",
   "metadata": {},
   "source": [
    "### Functions"
   ]
  },
  {
   "cell_type": "code",
   "execution_count": 113,
   "id": "a0ef18ba",
   "metadata": {},
   "outputs": [],
   "source": [
    "def split_into_country(df,y_df,country: str):\n",
    "    \n",
    "    y_df=y_df[df[\"COUNTRY\"]==country]\n",
    "    df=df[df[\"COUNTRY\"]==country]\n",
    "    df=df.drop([\"ID\",\"DAY_ID\",\"COUNTRY\"],axis=1)\n",
    "    df.fillna(df.median(),inplace=True)\n",
    "    \n",
    "    return df,y_df\n",
    "\n",
    "def SVRegression(df,y_df,C=10,epsilon=0.01):\n",
    "    \n",
    "    model=SVR(kernel=\"linear\",C=C,epsilon=epsilon)\n",
    "    model.fit(df,y_df[\"TARGET\"])\n",
    "    \n",
    "    return model\n",
    "   \n",
    "def postprocess(df_fr,df_de,x,y):\n",
    "    \n",
    "    fr=0\n",
    "    de=0\n",
    "    out=[]\n",
    "\n",
    "    for i in range (y.shape[0]):\n",
    "        if x['COUNTRY'].values[i]=='FR':\n",
    "            out.append([df_fr[fr]])\n",
    "            fr = fr + 1\n",
    "        else:\n",
    "            out.append([df_de[de]])\n",
    "            de = de + 1\n",
    "\n",
    "    return np.array(out)\n",
    "\n",
    "def z_scale(data):\n",
    "    \n",
    "    data=pd.DataFrame(data)\n",
    "    scaler=StandardScaler()\n",
    "    normalized_data = pd.DataFrame(scaler.fit_transform(data), columns=data.columns, index=data.index)\n",
    "\n",
    "    return normalized_data\n",
    "\n",
    "def spearman(output, y):\n",
    "\n",
    "    return spearmanr(output, y).correlation"
   ]
  },
  {
   "cell_type": "markdown",
   "id": "8961ab82",
   "metadata": {},
   "source": [
    "## Split data by country"
   ]
  },
  {
   "cell_type": "code",
   "execution_count": 115,
   "id": "cd7c6f03",
   "metadata": {},
   "outputs": [],
   "source": [
    "#training set\n",
    "de_train,y_de_train=split_into_country(X_train,y_train,\"DE\")\n",
    "fr_train,y_fr_train=split_into_country(X_train,y_train,\"FR\")\n",
    "\n",
    "de_train_s=z_scale(de_train)\n",
    "y_de_train_s=z_scale(y_de_train)\n",
    "fr_train_s=z_scale(fr_train)\n",
    "y_fr_train_s=z_scale(y_fr_train)\n",
    "\n",
    "#test set\n",
    "de_test,y_de_test=split_into_country(X_test,y_test,\"DE\")\n",
    "fr_test,y_fr_test=split_into_country(X_test,y_test,\"FR\")\n",
    "\n",
    "de_test_s=z_scale(de_test)\n",
    "y_de_test_s=z_scale(y_de_test)\n",
    "fr_test_s=z_scale(fr_test)\n",
    "y_fr_test_s=z_scale(y_fr_test)"
   ]
  },
  {
   "cell_type": "markdown",
   "id": "f1c0701e",
   "metadata": {},
   "source": [
    "## Take the top ten features ranked by correlation\n",
    "\n",
    "Then use Support Vector Regression (SVR) to predict answer"
   ]
  },
  {
   "cell_type": "code",
   "execution_count": 129,
   "id": "02f0645c",
   "metadata": {
    "scrolled": true
   },
   "outputs": [
    {
     "name": "stdout",
     "output_type": "stream",
     "text": [
      "Spearman correlation for the test set with SVR split country: 27.8%\n"
     ]
    }
   ],
   "source": [
    "corr_de=de_train_s.corrwith(y_de_train)\n",
    "corr_fr=fr_train_s.corrwith(y_fr_train)\n",
    "corr_de=abs(corr_de).sort_values(ascending=False)[:10]\n",
    "corr_fr=abs(corr_fr).sort_values(ascending=False)[:10]\n",
    "\n",
    "de_train_c=de_train_s[corr_de.index]\n",
    "de_test_c=de_test_s[corr_de.index]\n",
    "fr_train_c=fr_train_s[corr_fr.index]\n",
    "fr_test_c=fr_test_s[corr_fr.index]\n",
    "\n",
    "#fit the model\n",
    "C=20\n",
    "epsilon=0.511\n",
    "\n",
    "de_svr_c=SVRegression(de_train_c,y_de_train_s,C=C,epsilon=epsilon)\n",
    "fr_svr_c=SVRegression(fr_train_c,y_fr_train_s,C=C,epsilon=epsilon)\n",
    "\n",
    "#make predictions on test set\n",
    "de_svr_pred_c=de_svr_c.predict(de_test_c)\n",
    "fr_svr_pred_c=fr_svr_c.predict(fr_test_c)\n",
    "\n",
    "test_out_svr_c=postprocess(fr_svr_pred_c,de_svr_pred_c,X_test,y_test)\n",
    "print('Spearman correlation for the test set with SVR split country: {:.1f}%'.format(100*spearman(test_out_svr_c, y_test) ))"
   ]
  },
  {
   "cell_type": "code",
   "execution_count": 131,
   "id": "5f2306bc",
   "metadata": {},
   "outputs": [],
   "source": [
    "X_test_raw_de=X_test_raw[X_test_raw[\"COUNTRY\"]==\"DE\"]\n",
    "X_test_raw_de=X_test_raw_de.drop([\"ID\",\"DAY_ID\",\"COUNTRY\"],axis=1)\n",
    "X_test_raw_de.fillna(X_test_raw_de.median(),inplace=True)\n",
    "\n",
    "X_test_raw_fr=X_test_raw[X_test_raw[\"COUNTRY\"]==\"FR\"]\n",
    "X_test_raw_fr=X_test_raw_fr.drop([\"ID\",\"DAY_ID\",\"COUNTRY\"],axis=1)\n",
    "X_test_raw_fr.fillna(X_test_raw_fr.median(),inplace=True)\n",
    "\n",
    "X_test_raw_de=X_test_raw_de[corr_de.index]\n",
    "X_test_raw_fr=X_test_raw_fr[corr_fr.index]\n",
    "\n",
    "de_raw_test=de_svr_c.predict(X_test_raw_de)\n",
    "fr_raw_test=fr_svr_c.predict(X_test_raw_fr)\n",
    "\n",
    "raw_test_out=postprocess(fr_raw_test,de_raw_test,X_test_raw,X_test_raw)"
   ]
  },
  {
   "cell_type": "code",
   "execution_count": 128,
   "id": "f3662045",
   "metadata": {},
   "outputs": [],
   "source": [
    "X_test_clean = X_test_raw.drop(['COUNTRY'], axis=1)\n",
    "Y_test_submission = X_test_raw[['ID']].copy()\n",
    "Y_test_submission['TARGET'] = raw_test_out\n",
    "Y_test_submission.to_csv('GA_qrt_submission.csv', index=False)"
   ]
  }
 ],
 "metadata": {
  "kernelspec": {
   "display_name": "Python 3 (ipykernel)",
   "language": "python",
   "name": "python3"
  },
  "language_info": {
   "codemirror_mode": {
    "name": "ipython",
    "version": 3
   },
   "file_extension": ".py",
   "mimetype": "text/x-python",
   "name": "python",
   "nbconvert_exporter": "python",
   "pygments_lexer": "ipython3",
   "version": "3.11.5"
  }
 },
 "nbformat": 4,
 "nbformat_minor": 5
}
